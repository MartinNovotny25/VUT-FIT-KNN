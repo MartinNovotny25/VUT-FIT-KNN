{
  "nbformat": 4,
  "nbformat_minor": 0,
  "metadata": {
    "colab": {
      "provenance": [],
      "gpuType": "T4"
    },
    "kernelspec": {
      "name": "python3",
      "display_name": "Python 3"
    },
    "language_info": {
      "name": "python"
    },
    "accelerator": "GPU"
  },
  "cells": [
    {
      "cell_type": "code",
      "source": [
        "!unzip \"/content/img0002.zip\" -d \"/content/output/\"\n"
      ],
      "metadata": {
        "colab": {
          "base_uri": "https://localhost:8080/"
        },
        "id": "_fL0NFlH488p",
        "outputId": "f546d0ac-2f4e-44e0-b77a-01faaf1d9e9e"
      },
      "execution_count": 12,
      "outputs": [
        {
          "output_type": "stream",
          "name": "stdout",
          "text": [
            "Archive:  /content/img0002.zip\n",
            "   creating: /content/output/img0002 - Copy/img/\n",
            "  inflating: /content/output/img0002 - Copy/img/slice_100.png  \n",
            "   creating: /content/output/img0002 - Copy/label/\n",
            "  inflating: /content/output/img0002 - Copy/label/slice_100_0.png  \n",
            "  inflating: /content/output/img0002 - Copy/label/slice_100_1.png  \n",
            "  inflating: /content/output/img0002 - Copy/label/slice_100_2.png  \n",
            "  inflating: /content/output/img0002 - Copy/label/slice_100_3.png  \n",
            "  inflating: /content/output/img0002 - Copy/label/slice_100_4.png  \n",
            "  inflating: /content/output/img0002 - Copy/label/slice_100_5.png  \n",
            "  inflating: /content/output/img0002 - Copy/label/slice_100_6.png  \n",
            "  inflating: /content/output/img0002 - Copy/label/slice_100_7.png  \n",
            "  inflating: /content/output/img0002 - Copy/label/slice_100_8.png  \n",
            "  inflating: /content/output/img0002 - Copy/label/slice_100_9.png  \n",
            "  inflating: /content/output/img0002 - Copy/label/slice_101_0.png  \n",
            "  inflating: /content/output/img0002 - Copy/label/slice_101_1.png  \n",
            "  inflating: /content/output/img0002 - Copy/label/slice_101_10.png  \n",
            "  inflating: /content/output/img0002 - Copy/label/slice_101_2.png  \n",
            "  inflating: /content/output/img0002 - Copy/label/slice_101_3.png  \n",
            "  inflating: /content/output/img0002 - Copy/label/slice_101_4.png  \n",
            "  inflating: /content/output/img0002 - Copy/label/slice_101_5.png  \n",
            "  inflating: /content/output/img0002 - Copy/label/slice_101_6.png  \n",
            "  inflating: /content/output/img0002 - Copy/label/slice_101_7.png  \n",
            "  inflating: /content/output/img0002 - Copy/label/slice_101_8.png  \n",
            "  inflating: /content/output/img0002 - Copy/label/slice_101_9.png  \n",
            "  inflating: /content/output/img0002 - Copy/label/slice_102_0.png  \n",
            "  inflating: /content/output/img0002 - Copy/label/slice_102_1.png  \n",
            "  inflating: /content/output/img0002 - Copy/label/slice_102_2.png  \n",
            "  inflating: /content/output/img0002 - Copy/label/slice_102_3.png  \n",
            "  inflating: /content/output/img0002 - Copy/label/slice_102_4.png  \n",
            "  inflating: /content/output/img0002 - Copy/label/slice_102_5.png  \n",
            "  inflating: /content/output/img0002 - Copy/label/slice_102_6.png  \n",
            "  inflating: /content/output/img0002 - Copy/label/slice_102_7.png  \n",
            "  inflating: /content/output/img0002 - Copy/label/slice_102_8.png  \n",
            "  inflating: /content/output/img0002 - Copy/label/slice_102_9.png  \n",
            "  inflating: /content/output/img0002 - Copy/label/slice_103_0.png  \n",
            "  inflating: /content/output/img0002 - Copy/label/slice_103_1.png  \n",
            "  inflating: /content/output/img0002 - Copy/label/slice_103_2.png  \n",
            "  inflating: /content/output/img0002 - Copy/label/slice_103_3.png  \n",
            "  inflating: /content/output/img0002 - Copy/label/slice_103_4.png  \n",
            "  inflating: /content/output/img0002 - Copy/label/slice_103_5.png  \n",
            "  inflating: /content/output/img0002 - Copy/label/slice_103_6.png  \n",
            "  inflating: /content/output/img0002 - Copy/label/slice_103_7.png  \n",
            "  inflating: /content/output/img0002 - Copy/label/slice_103_8.png  \n",
            "  inflating: /content/output/img0002 - Copy/label/slice_103_9.png  \n",
            "  inflating: /content/output/img0002 - Copy/label/slice_104_0.png  \n",
            "  inflating: /content/output/img0002 - Copy/label/slice_104_1.png  \n",
            "  inflating: /content/output/img0002 - Copy/label/slice_104_2.png  \n",
            "  inflating: /content/output/img0002 - Copy/label/slice_104_3.png  \n",
            "  inflating: /content/output/img0002 - Copy/label/slice_104_4.png  \n",
            "  inflating: /content/output/img0002 - Copy/label/slice_104_5.png  \n",
            "  inflating: /content/output/img0002 - Copy/label/slice_104_6.png  \n",
            "  inflating: /content/output/img0002 - Copy/label/slice_104_7.png  \n",
            "  inflating: /content/output/img0002 - Copy/label/slice_104_8.png  \n",
            "  inflating: /content/output/img0002 - Copy/label/slice_105_0.png  \n",
            "  inflating: /content/output/img0002 - Copy/label/slice_105_1.png  \n",
            "  inflating: /content/output/img0002 - Copy/label/slice_105_2.png  \n",
            "  inflating: /content/output/img0002 - Copy/label/slice_105_3.png  \n",
            "  inflating: /content/output/img0002 - Copy/label/slice_105_4.png  \n",
            "  inflating: /content/output/img0002 - Copy/label/slice_105_5.png  \n",
            "  inflating: /content/output/img0002 - Copy/label/slice_105_6.png  \n",
            "  inflating: /content/output/img0002 - Copy/label/slice_105_7.png  \n",
            "  inflating: /content/output/img0002 - Copy/label/slice_105_8.png  \n",
            "  inflating: /content/output/img0002 - Copy/label/slice_105_9.png  \n",
            "  inflating: /content/output/img0002 - Copy/label/slice_106_0.png  \n",
            "  inflating: /content/output/img0002 - Copy/label/slice_106_1.png  \n",
            "  inflating: /content/output/img0002 - Copy/label/slice_106_2.png  \n",
            "  inflating: /content/output/img0002 - Copy/label/slice_106_3.png  \n",
            "  inflating: /content/output/img0002 - Copy/label/slice_106_4.png  \n",
            "  inflating: /content/output/img0002 - Copy/label/slice_106_5.png  \n",
            "  inflating: /content/output/img0002 - Copy/label/slice_106_6.png  \n",
            "  inflating: /content/output/img0002 - Copy/label/slice_106_7.png  \n",
            "  inflating: /content/output/img0002 - Copy/label/slice_106_8.png  \n",
            "  inflating: /content/output/img0002 - Copy/label/slice_106_9.png  \n",
            "  inflating: /content/output/img0002 - Copy/label/slice_107_0.png  \n",
            "  inflating: /content/output/img0002 - Copy/label/slice_107_1.png  \n",
            "  inflating: /content/output/img0002 - Copy/label/slice_107_2.png  \n",
            "  inflating: /content/output/img0002 - Copy/label/slice_107_3.png  \n",
            "  inflating: /content/output/img0002 - Copy/label/slice_107_4.png  \n",
            "  inflating: /content/output/img0002 - Copy/label/slice_107_5.png  \n",
            "  inflating: /content/output/img0002 - Copy/label/slice_107_6.png  \n",
            "  inflating: /content/output/img0002 - Copy/label/slice_107_7.png  \n",
            "  inflating: /content/output/img0002 - Copy/label/slice_107_8.png  \n",
            "  inflating: /content/output/img0002 - Copy/label/slice_107_9.png  \n",
            "  inflating: /content/output/img0002 - Copy/label/slice_108_0.png  \n",
            "  inflating: /content/output/img0002 - Copy/label/slice_108_1.png  \n",
            "  inflating: /content/output/img0002 - Copy/label/slice_108_2.png  \n",
            "  inflating: /content/output/img0002 - Copy/label/slice_108_3.png  \n",
            "  inflating: /content/output/img0002 - Copy/label/slice_108_4.png  \n",
            "  inflating: /content/output/img0002 - Copy/label/slice_108_5.png  \n",
            "  inflating: /content/output/img0002 - Copy/label/slice_108_6.png  \n",
            "  inflating: /content/output/img0002 - Copy/label/slice_108_7.png  \n",
            "  inflating: /content/output/img0002 - Copy/label/slice_108_8.png  \n",
            "  inflating: /content/output/img0002 - Copy/label/slice_108_9.png  \n",
            "  inflating: /content/output/img0002 - Copy/label/slice_109_0.png  \n",
            "  inflating: /content/output/img0002 - Copy/label/slice_109_1.png  \n",
            "  inflating: /content/output/img0002 - Copy/label/slice_109_2.png  \n",
            "  inflating: /content/output/img0002 - Copy/label/slice_109_3.png  \n",
            "  inflating: /content/output/img0002 - Copy/label/slice_109_4.png  \n",
            "  inflating: /content/output/img0002 - Copy/label/slice_109_5.png  \n",
            "  inflating: /content/output/img0002 - Copy/label/slice_109_6.png  \n",
            "  inflating: /content/output/img0002 - Copy/label/slice_109_7.png  \n",
            "  inflating: /content/output/img0002 - Copy/label/slice_109_8.png  \n",
            "  inflating: /content/output/img0002 - Copy/label/slice_109_9.png  \n",
            "  inflating: /content/output/img0002 - Copy/label/slice_110_0.png  \n",
            "  inflating: /content/output/img0002 - Copy/label/slice_110_1.png  \n",
            "  inflating: /content/output/img0002 - Copy/label/slice_110_2.png  \n",
            "  inflating: /content/output/img0002 - Copy/label/slice_110_3.png  \n",
            "  inflating: /content/output/img0002 - Copy/label/slice_110_4.png  \n",
            "  inflating: /content/output/img0002 - Copy/label/slice_110_5.png  \n",
            "  inflating: /content/output/img0002 - Copy/label/slice_110_6.png  \n",
            "  inflating: /content/output/img0002 - Copy/label/slice_110_7.png  \n",
            "  inflating: /content/output/img0002 - Copy/label/slice_110_8.png  \n",
            "  inflating: /content/output/img0002 - Copy/label/slice_110_9.png  \n",
            "  inflating: /content/output/img0002 - Copy/label/slice_111_0.png  \n",
            "  inflating: /content/output/img0002 - Copy/label/slice_111_1.png  \n",
            "  inflating: /content/output/img0002 - Copy/label/slice_111_2.png  \n",
            "  inflating: /content/output/img0002 - Copy/label/slice_111_3.png  \n",
            "  inflating: /content/output/img0002 - Copy/label/slice_111_4.png  \n",
            "  inflating: /content/output/img0002 - Copy/label/slice_111_5.png  \n",
            "  inflating: /content/output/img0002 - Copy/label/slice_111_6.png  \n",
            "  inflating: /content/output/img0002 - Copy/label/slice_111_7.png  \n",
            "  inflating: /content/output/img0002 - Copy/label/slice_111_8.png  \n",
            "  inflating: /content/output/img0002 - Copy/label/slice_111_9.png  \n",
            "  inflating: /content/output/img0002 - Copy/label/slice_112_0.png  \n",
            "  inflating: /content/output/img0002 - Copy/label/slice_112_1.png  \n",
            "  inflating: /content/output/img0002 - Copy/label/slice_112_2.png  \n",
            "  inflating: /content/output/img0002 - Copy/label/slice_112_3.png  \n",
            "  inflating: /content/output/img0002 - Copy/label/slice_112_4.png  \n",
            "  inflating: /content/output/img0002 - Copy/label/slice_112_5.png  \n",
            "  inflating: /content/output/img0002 - Copy/label/slice_112_6.png  \n",
            "  inflating: /content/output/img0002 - Copy/label/slice_112_7.png  \n",
            "  inflating: /content/output/img0002 - Copy/label/slice_112_8.png  \n",
            "  inflating: /content/output/img0002 - Copy/label/slice_113_0.png  \n",
            "  inflating: /content/output/img0002 - Copy/label/slice_113_1.png  \n",
            "  inflating: /content/output/img0002 - Copy/label/slice_113_2.png  \n",
            "  inflating: /content/output/img0002 - Copy/label/slice_113_3.png  \n",
            "  inflating: /content/output/img0002 - Copy/label/slice_113_4.png  \n",
            "  inflating: /content/output/img0002 - Copy/label/slice_113_5.png  \n",
            "  inflating: /content/output/img0002 - Copy/label/slice_113_6.png  \n",
            "  inflating: /content/output/img0002 - Copy/label/slice_113_7.png  \n",
            "  inflating: /content/output/img0002 - Copy/label/slice_113_8.png  \n",
            "  inflating: /content/output/img0002 - Copy/label/slice_114_0.png  \n",
            "  inflating: /content/output/img0002 - Copy/label/slice_114_1.png  \n",
            "  inflating: /content/output/img0002 - Copy/label/slice_114_2.png  \n",
            "  inflating: /content/output/img0002 - Copy/label/slice_114_3.png  \n",
            "  inflating: /content/output/img0002 - Copy/label/slice_114_4.png  \n",
            "  inflating: /content/output/img0002 - Copy/label/slice_114_5.png  \n",
            "  inflating: /content/output/img0002 - Copy/label/slice_114_6.png  \n",
            "  inflating: /content/output/img0002 - Copy/label/slice_114_7.png  \n",
            "  inflating: /content/output/img0002 - Copy/label/slice_115_0.png  \n",
            "  inflating: /content/output/img0002 - Copy/label/slice_115_1.png  \n",
            "  inflating: /content/output/img0002 - Copy/label/slice_115_2.png  \n",
            "  inflating: /content/output/img0002 - Copy/label/slice_115_3.png  \n",
            "  inflating: /content/output/img0002 - Copy/label/slice_115_4.png  \n",
            "  inflating: /content/output/img0002 - Copy/label/slice_115_5.png  \n",
            "  inflating: /content/output/img0002 - Copy/label/slice_115_6.png  \n",
            "  inflating: /content/output/img0002 - Copy/label/slice_115_7.png  \n",
            "  inflating: /content/output/img0002 - Copy/label/slice_116_0.png  \n",
            "  inflating: /content/output/img0002 - Copy/label/slice_116_1.png  \n",
            "  inflating: /content/output/img0002 - Copy/label/slice_116_2.png  \n",
            "  inflating: /content/output/img0002 - Copy/label/slice_116_3.png  \n",
            "  inflating: /content/output/img0002 - Copy/label/slice_116_4.png  \n",
            "  inflating: /content/output/img0002 - Copy/label/slice_116_5.png  \n",
            "  inflating: /content/output/img0002 - Copy/label/slice_116_6.png  \n",
            "  inflating: /content/output/img0002 - Copy/label/slice_117_0.png  \n",
            "  inflating: /content/output/img0002 - Copy/label/slice_117_1.png  \n",
            "  inflating: /content/output/img0002 - Copy/label/slice_117_2.png  \n",
            "  inflating: /content/output/img0002 - Copy/label/slice_117_3.png  \n",
            "  inflating: /content/output/img0002 - Copy/label/slice_117_4.png  \n",
            "  inflating: /content/output/img0002 - Copy/label/slice_117_5.png  \n",
            "  inflating: /content/output/img0002 - Copy/label/slice_118_0.png  \n",
            "  inflating: /content/output/img0002 - Copy/label/slice_118_1.png  \n",
            "  inflating: /content/output/img0002 - Copy/label/slice_118_2.png  \n",
            "  inflating: /content/output/img0002 - Copy/label/slice_118_3.png  \n",
            "  inflating: /content/output/img0002 - Copy/label/slice_118_4.png  \n",
            "  inflating: /content/output/img0002 - Copy/label/slice_118_5.png  \n",
            "  inflating: /content/output/img0002 - Copy/label/slice_119_0.png  \n",
            "  inflating: /content/output/img0002 - Copy/label/slice_119_1.png  \n",
            "  inflating: /content/output/img0002 - Copy/label/slice_119_2.png  \n",
            "  inflating: /content/output/img0002 - Copy/label/slice_119_3.png  \n",
            "  inflating: /content/output/img0002 - Copy/label/slice_119_4.png  \n",
            "  inflating: /content/output/img0002 - Copy/label/slice_119_5.png  \n",
            "  inflating: /content/output/img0002 - Copy/label/slice_120_0.png  \n",
            "  inflating: /content/output/img0002 - Copy/label/slice_120_1.png  \n",
            "  inflating: /content/output/img0002 - Copy/label/slice_120_2.png  \n",
            "  inflating: /content/output/img0002 - Copy/label/slice_120_3.png  \n",
            "  inflating: /content/output/img0002 - Copy/label/slice_120_4.png  \n",
            "  inflating: /content/output/img0002 - Copy/label/slice_121_0.png  \n",
            "  inflating: /content/output/img0002 - Copy/label/slice_121_1.png  \n",
            "  inflating: /content/output/img0002 - Copy/label/slice_121_2.png  \n",
            "  inflating: /content/output/img0002 - Copy/label/slice_121_3.png  \n",
            "  inflating: /content/output/img0002 - Copy/label/slice_121_4.png  \n",
            "  inflating: /content/output/img0002 - Copy/label/slice_122_0.png  \n",
            "  inflating: /content/output/img0002 - Copy/label/slice_122_1.png  \n",
            "  inflating: /content/output/img0002 - Copy/label/slice_122_2.png  \n",
            "  inflating: /content/output/img0002 - Copy/label/slice_122_3.png  \n",
            "  inflating: /content/output/img0002 - Copy/label/slice_122_4.png  \n",
            "  inflating: /content/output/img0002 - Copy/label/slice_123_0.png  \n",
            "  inflating: /content/output/img0002 - Copy/label/slice_123_1.png  \n",
            "  inflating: /content/output/img0002 - Copy/label/slice_123_2.png  \n",
            "  inflating: /content/output/img0002 - Copy/label/slice_123_3.png  \n",
            "  inflating: /content/output/img0002 - Copy/label/slice_123_4.png  \n",
            "  inflating: /content/output/img0002 - Copy/label/slice_124_0.png  \n",
            "  inflating: /content/output/img0002 - Copy/label/slice_124_1.png  \n",
            "  inflating: /content/output/img0002 - Copy/label/slice_124_2.png  \n",
            "  inflating: /content/output/img0002 - Copy/label/slice_124_3.png  \n",
            "  inflating: /content/output/img0002 - Copy/label/slice_124_4.png  \n",
            "  inflating: /content/output/img0002 - Copy/label/slice_124_5.png  \n",
            "  inflating: /content/output/img0002 - Copy/label/slice_125_0.png  \n",
            "  inflating: /content/output/img0002 - Copy/label/slice_125_1.png  \n",
            "  inflating: /content/output/img0002 - Copy/label/slice_125_2.png  \n",
            "  inflating: /content/output/img0002 - Copy/label/slice_125_3.png  \n",
            "  inflating: /content/output/img0002 - Copy/label/slice_125_4.png  \n",
            "  inflating: /content/output/img0002 - Copy/label/slice_125_5.png  \n",
            "  inflating: /content/output/img0002 - Copy/label/slice_126_0.png  \n",
            "  inflating: /content/output/img0002 - Copy/label/slice_126_1.png  \n",
            "  inflating: /content/output/img0002 - Copy/label/slice_126_2.png  \n",
            "  inflating: /content/output/img0002 - Copy/label/slice_126_3.png  \n",
            "  inflating: /content/output/img0002 - Copy/label/slice_127_0.png  \n",
            "  inflating: /content/output/img0002 - Copy/label/slice_127_1.png  \n",
            "  inflating: /content/output/img0002 - Copy/label/slice_127_2.png  \n",
            "  inflating: /content/output/img0002 - Copy/label/slice_127_3.png  \n",
            "  inflating: /content/output/img0002 - Copy/label/slice_128_0.png  \n",
            "  inflating: /content/output/img0002 - Copy/label/slice_128_1.png  \n",
            "  inflating: /content/output/img0002 - Copy/label/slice_128_2.png  \n",
            "  inflating: /content/output/img0002 - Copy/label/slice_128_3.png  \n",
            "  inflating: /content/output/img0002 - Copy/label/slice_129_0.png  \n",
            "  inflating: /content/output/img0002 - Copy/label/slice_129_1.png  \n",
            "  inflating: /content/output/img0002 - Copy/label/slice_129_2.png  \n",
            "  inflating: /content/output/img0002 - Copy/label/slice_129_3.png  \n",
            "  inflating: /content/output/img0002 - Copy/label/slice_130_0.png  \n",
            "  inflating: /content/output/img0002 - Copy/label/slice_130_1.png  \n",
            "  inflating: /content/output/img0002 - Copy/label/slice_130_2.png  \n",
            "  inflating: /content/output/img0002 - Copy/label/slice_130_3.png  \n",
            "  inflating: /content/output/img0002 - Copy/label/slice_131_0.png  \n",
            "  inflating: /content/output/img0002 - Copy/label/slice_131_1.png  \n",
            "  inflating: /content/output/img0002 - Copy/label/slice_131_2.png  \n",
            "  inflating: /content/output/img0002 - Copy/label/slice_131_3.png  \n",
            "  inflating: /content/output/img0002 - Copy/label/slice_132_0.png  \n",
            "  inflating: /content/output/img0002 - Copy/label/slice_132_1.png  \n",
            "  inflating: /content/output/img0002 - Copy/label/slice_132_2.png  \n",
            "  inflating: /content/output/img0002 - Copy/label/slice_133_0.png  \n",
            "  inflating: /content/output/img0002 - Copy/label/slice_133_1.png  \n",
            "  inflating: /content/output/img0002 - Copy/label/slice_133_2.png  \n",
            "  inflating: /content/output/img0002 - Copy/label/slice_134_0.png  \n",
            "  inflating: /content/output/img0002 - Copy/label/slice_134_1.png  \n",
            "  inflating: /content/output/img0002 - Copy/label/slice_134_2.png  \n",
            "  inflating: /content/output/img0002 - Copy/label/slice_135_0.png  \n",
            "  inflating: /content/output/img0002 - Copy/label/slice_135_1.png  \n",
            "  inflating: /content/output/img0002 - Copy/label/slice_135_2.png  \n",
            "  inflating: /content/output/img0002 - Copy/label/slice_136_0.png  \n",
            "  inflating: /content/output/img0002 - Copy/label/slice_136_1.png  \n",
            "  inflating: /content/output/img0002 - Copy/label/slice_136_2.png  \n",
            "  inflating: /content/output/img0002 - Copy/label/slice_137_0.png  \n",
            "  inflating: /content/output/img0002 - Copy/label/slice_137_1.png  \n",
            "  inflating: /content/output/img0002 - Copy/label/slice_137_2.png  \n",
            "  inflating: /content/output/img0002 - Copy/label/slice_138_0.png  \n",
            "  inflating: /content/output/img0002 - Copy/label/slice_138_1.png  \n",
            "  inflating: /content/output/img0002 - Copy/label/slice_138_2.png  \n",
            "  inflating: /content/output/img0002 - Copy/label/slice_64_0.png  \n",
            "  inflating: /content/output/img0002 - Copy/label/slice_65_0.png  \n",
            "  inflating: /content/output/img0002 - Copy/label/slice_66_0.png  \n",
            "  inflating: /content/output/img0002 - Copy/label/slice_67_0.png  \n",
            "  inflating: /content/output/img0002 - Copy/label/slice_67_1.png  \n",
            "  inflating: /content/output/img0002 - Copy/label/slice_68_0.png  \n",
            "  inflating: /content/output/img0002 - Copy/label/slice_68_1.png  \n",
            "  inflating: /content/output/img0002 - Copy/label/slice_69_0.png  \n",
            "  inflating: /content/output/img0002 - Copy/label/slice_69_1.png  \n",
            "  inflating: /content/output/img0002 - Copy/label/slice_70_0.png  \n",
            "  inflating: /content/output/img0002 - Copy/label/slice_70_1.png  \n",
            "  inflating: /content/output/img0002 - Copy/label/slice_71_0.png  \n",
            "  inflating: /content/output/img0002 - Copy/label/slice_71_1.png  \n",
            "  inflating: /content/output/img0002 - Copy/label/slice_72_0.png  \n",
            "  inflating: /content/output/img0002 - Copy/label/slice_72_1.png  \n",
            "  inflating: /content/output/img0002 - Copy/label/slice_73_0.png  \n",
            "  inflating: /content/output/img0002 - Copy/label/slice_73_1.png  \n",
            "  inflating: /content/output/img0002 - Copy/label/slice_73_2.png  \n",
            "  inflating: /content/output/img0002 - Copy/label/slice_74_0.png  \n",
            "  inflating: /content/output/img0002 - Copy/label/slice_74_1.png  \n",
            "  inflating: /content/output/img0002 - Copy/label/slice_74_2.png  \n",
            "  inflating: /content/output/img0002 - Copy/label/slice_75_0.png  \n",
            "  inflating: /content/output/img0002 - Copy/label/slice_75_1.png  \n",
            "  inflating: /content/output/img0002 - Copy/label/slice_75_2.png  \n",
            "  inflating: /content/output/img0002 - Copy/label/slice_76_0.png  \n",
            "  inflating: /content/output/img0002 - Copy/label/slice_76_1.png  \n",
            "  inflating: /content/output/img0002 - Copy/label/slice_76_2.png  \n",
            "  inflating: /content/output/img0002 - Copy/label/slice_77_0.png  \n",
            "  inflating: /content/output/img0002 - Copy/label/slice_77_1.png  \n",
            "  inflating: /content/output/img0002 - Copy/label/slice_77_2.png  \n",
            "  inflating: /content/output/img0002 - Copy/label/slice_78_0.png  \n",
            "  inflating: /content/output/img0002 - Copy/label/slice_78_1.png  \n",
            "  inflating: /content/output/img0002 - Copy/label/slice_78_2.png  \n",
            "  inflating: /content/output/img0002 - Copy/label/slice_78_3.png  \n",
            "  inflating: /content/output/img0002 - Copy/label/slice_79_0.png  \n",
            "  inflating: /content/output/img0002 - Copy/label/slice_79_1.png  \n",
            "  inflating: /content/output/img0002 - Copy/label/slice_79_2.png  \n",
            "  inflating: /content/output/img0002 - Copy/label/slice_79_3.png  \n",
            "  inflating: /content/output/img0002 - Copy/label/slice_80_0.png  \n",
            "  inflating: /content/output/img0002 - Copy/label/slice_80_1.png  \n",
            "  inflating: /content/output/img0002 - Copy/label/slice_80_2.png  \n",
            "  inflating: /content/output/img0002 - Copy/label/slice_80_3.png  \n",
            "  inflating: /content/output/img0002 - Copy/label/slice_81_0.png  \n",
            "  inflating: /content/output/img0002 - Copy/label/slice_81_1.png  \n",
            "  inflating: /content/output/img0002 - Copy/label/slice_81_2.png  \n",
            "  inflating: /content/output/img0002 - Copy/label/slice_81_3.png  \n",
            "  inflating: /content/output/img0002 - Copy/label/slice_81_4.png  \n",
            "  inflating: /content/output/img0002 - Copy/label/slice_82_0.png  \n",
            "  inflating: /content/output/img0002 - Copy/label/slice_82_1.png  \n",
            "  inflating: /content/output/img0002 - Copy/label/slice_82_2.png  \n",
            "  inflating: /content/output/img0002 - Copy/label/slice_82_3.png  \n",
            "  inflating: /content/output/img0002 - Copy/label/slice_82_4.png  \n",
            "  inflating: /content/output/img0002 - Copy/label/slice_83_0.png  \n",
            "  inflating: /content/output/img0002 - Copy/label/slice_83_1.png  \n",
            "  inflating: /content/output/img0002 - Copy/label/slice_83_2.png  \n",
            "  inflating: /content/output/img0002 - Copy/label/slice_83_3.png  \n",
            "  inflating: /content/output/img0002 - Copy/label/slice_83_4.png  \n",
            "  inflating: /content/output/img0002 - Copy/label/slice_84_0.png  \n",
            "  inflating: /content/output/img0002 - Copy/label/slice_84_1.png  \n",
            "  inflating: /content/output/img0002 - Copy/label/slice_84_2.png  \n",
            "  inflating: /content/output/img0002 - Copy/label/slice_84_3.png  \n",
            "  inflating: /content/output/img0002 - Copy/label/slice_84_4.png  \n",
            "  inflating: /content/output/img0002 - Copy/label/slice_85_0.png  \n",
            "  inflating: /content/output/img0002 - Copy/label/slice_85_1.png  \n",
            "  inflating: /content/output/img0002 - Copy/label/slice_85_2.png  \n",
            "  inflating: /content/output/img0002 - Copy/label/slice_85_3.png  \n",
            "  inflating: /content/output/img0002 - Copy/label/slice_85_4.png  \n",
            "  inflating: /content/output/img0002 - Copy/label/slice_86_0.png  \n",
            "  inflating: /content/output/img0002 - Copy/label/slice_86_1.png  \n",
            "  inflating: /content/output/img0002 - Copy/label/slice_86_2.png  \n",
            "  inflating: /content/output/img0002 - Copy/label/slice_86_3.png  \n",
            "  inflating: /content/output/img0002 - Copy/label/slice_86_4.png  \n",
            "  inflating: /content/output/img0002 - Copy/label/slice_86_5.png  \n",
            "  inflating: /content/output/img0002 - Copy/label/slice_87_0.png  \n",
            "  inflating: /content/output/img0002 - Copy/label/slice_87_1.png  \n",
            "  inflating: /content/output/img0002 - Copy/label/slice_87_2.png  \n",
            "  inflating: /content/output/img0002 - Copy/label/slice_87_3.png  \n",
            "  inflating: /content/output/img0002 - Copy/label/slice_87_4.png  \n",
            "  inflating: /content/output/img0002 - Copy/label/slice_87_5.png  \n",
            "  inflating: /content/output/img0002 - Copy/label/slice_87_6.png  \n",
            "  inflating: /content/output/img0002 - Copy/label/slice_88_0.png  \n",
            "  inflating: /content/output/img0002 - Copy/label/slice_88_1.png  \n",
            "  inflating: /content/output/img0002 - Copy/label/slice_88_2.png  \n",
            "  inflating: /content/output/img0002 - Copy/label/slice_88_3.png  \n",
            "  inflating: /content/output/img0002 - Copy/label/slice_88_4.png  \n",
            "  inflating: /content/output/img0002 - Copy/label/slice_88_5.png  \n",
            "  inflating: /content/output/img0002 - Copy/label/slice_88_6.png  \n",
            "  inflating: /content/output/img0002 - Copy/label/slice_89_0.png  \n",
            "  inflating: /content/output/img0002 - Copy/label/slice_89_1.png  \n",
            "  inflating: /content/output/img0002 - Copy/label/slice_89_2.png  \n",
            "  inflating: /content/output/img0002 - Copy/label/slice_89_3.png  \n",
            "  inflating: /content/output/img0002 - Copy/label/slice_89_4.png  \n",
            "  inflating: /content/output/img0002 - Copy/label/slice_89_5.png  \n",
            "  inflating: /content/output/img0002 - Copy/label/slice_89_6.png  \n",
            "  inflating: /content/output/img0002 - Copy/label/slice_89_7.png  \n",
            "  inflating: /content/output/img0002 - Copy/label/slice_90_0.png  \n",
            "  inflating: /content/output/img0002 - Copy/label/slice_90_1.png  \n",
            "  inflating: /content/output/img0002 - Copy/label/slice_90_2.png  \n",
            "  inflating: /content/output/img0002 - Copy/label/slice_90_3.png  \n",
            "  inflating: /content/output/img0002 - Copy/label/slice_90_4.png  \n",
            "  inflating: /content/output/img0002 - Copy/label/slice_90_5.png  \n",
            "  inflating: /content/output/img0002 - Copy/label/slice_90_6.png  \n",
            "  inflating: /content/output/img0002 - Copy/label/slice_90_7.png  \n",
            "  inflating: /content/output/img0002 - Copy/label/slice_91_0.png  \n",
            "  inflating: /content/output/img0002 - Copy/label/slice_91_1.png  \n",
            "  inflating: /content/output/img0002 - Copy/label/slice_91_2.png  \n",
            "  inflating: /content/output/img0002 - Copy/label/slice_91_3.png  \n",
            "  inflating: /content/output/img0002 - Copy/label/slice_91_4.png  \n",
            "  inflating: /content/output/img0002 - Copy/label/slice_91_5.png  \n",
            "  inflating: /content/output/img0002 - Copy/label/slice_91_6.png  \n",
            "  inflating: /content/output/img0002 - Copy/label/slice_91_7.png  \n",
            "  inflating: /content/output/img0002 - Copy/label/slice_92_0.png  \n",
            "  inflating: /content/output/img0002 - Copy/label/slice_92_1.png  \n",
            "  inflating: /content/output/img0002 - Copy/label/slice_92_2.png  \n",
            "  inflating: /content/output/img0002 - Copy/label/slice_92_3.png  \n",
            "  inflating: /content/output/img0002 - Copy/label/slice_92_4.png  \n",
            "  inflating: /content/output/img0002 - Copy/label/slice_92_5.png  \n",
            "  inflating: /content/output/img0002 - Copy/label/slice_92_6.png  \n",
            "  inflating: /content/output/img0002 - Copy/label/slice_92_7.png  \n",
            "  inflating: /content/output/img0002 - Copy/label/slice_93_0.png  \n",
            "  inflating: /content/output/img0002 - Copy/label/slice_93_1.png  \n",
            "  inflating: /content/output/img0002 - Copy/label/slice_93_2.png  \n",
            "  inflating: /content/output/img0002 - Copy/label/slice_93_3.png  \n",
            "  inflating: /content/output/img0002 - Copy/label/slice_93_4.png  \n",
            "  inflating: /content/output/img0002 - Copy/label/slice_93_5.png  \n",
            "  inflating: /content/output/img0002 - Copy/label/slice_93_6.png  \n",
            "  inflating: /content/output/img0002 - Copy/label/slice_93_7.png  \n",
            "  inflating: /content/output/img0002 - Copy/label/slice_94_0.png  \n",
            "  inflating: /content/output/img0002 - Copy/label/slice_94_1.png  \n",
            "  inflating: /content/output/img0002 - Copy/label/slice_94_2.png  \n",
            "  inflating: /content/output/img0002 - Copy/label/slice_94_3.png  \n",
            "  inflating: /content/output/img0002 - Copy/label/slice_94_4.png  \n",
            "  inflating: /content/output/img0002 - Copy/label/slice_94_5.png  \n",
            "  inflating: /content/output/img0002 - Copy/label/slice_94_6.png  \n",
            "  inflating: /content/output/img0002 - Copy/label/slice_94_7.png  \n",
            "  inflating: /content/output/img0002 - Copy/label/slice_95_0.png  \n",
            "  inflating: /content/output/img0002 - Copy/label/slice_95_1.png  \n",
            "  inflating: /content/output/img0002 - Copy/label/slice_95_2.png  \n",
            "  inflating: /content/output/img0002 - Copy/label/slice_95_3.png  \n",
            "  inflating: /content/output/img0002 - Copy/label/slice_95_4.png  \n",
            "  inflating: /content/output/img0002 - Copy/label/slice_95_5.png  \n",
            "  inflating: /content/output/img0002 - Copy/label/slice_95_6.png  \n",
            "  inflating: /content/output/img0002 - Copy/label/slice_95_7.png  \n",
            "  inflating: /content/output/img0002 - Copy/label/slice_96_0.png  \n",
            "  inflating: /content/output/img0002 - Copy/label/slice_96_1.png  \n",
            "  inflating: /content/output/img0002 - Copy/label/slice_96_2.png  \n",
            "  inflating: /content/output/img0002 - Copy/label/slice_96_3.png  \n",
            "  inflating: /content/output/img0002 - Copy/label/slice_96_4.png  \n",
            "  inflating: /content/output/img0002 - Copy/label/slice_96_5.png  \n",
            "  inflating: /content/output/img0002 - Copy/label/slice_96_6.png  \n",
            "  inflating: /content/output/img0002 - Copy/label/slice_96_7.png  \n",
            "  inflating: /content/output/img0002 - Copy/label/slice_97_0.png  \n",
            "  inflating: /content/output/img0002 - Copy/label/slice_97_1.png  \n",
            "  inflating: /content/output/img0002 - Copy/label/slice_97_2.png  \n",
            "  inflating: /content/output/img0002 - Copy/label/slice_97_3.png  \n",
            "  inflating: /content/output/img0002 - Copy/label/slice_97_4.png  \n",
            "  inflating: /content/output/img0002 - Copy/label/slice_97_5.png  \n",
            "  inflating: /content/output/img0002 - Copy/label/slice_97_6.png  \n",
            "  inflating: /content/output/img0002 - Copy/label/slice_97_7.png  \n",
            "  inflating: /content/output/img0002 - Copy/label/slice_98_0.png  \n",
            "  inflating: /content/output/img0002 - Copy/label/slice_98_1.png  \n",
            "  inflating: /content/output/img0002 - Copy/label/slice_98_2.png  \n",
            "  inflating: /content/output/img0002 - Copy/label/slice_98_3.png  \n",
            "  inflating: /content/output/img0002 - Copy/label/slice_98_4.png  \n",
            "  inflating: /content/output/img0002 - Copy/label/slice_98_5.png  \n",
            "  inflating: /content/output/img0002 - Copy/label/slice_98_6.png  \n",
            "  inflating: /content/output/img0002 - Copy/label/slice_98_7.png  \n",
            "  inflating: /content/output/img0002 - Copy/label/slice_99_0.png  \n",
            "  inflating: /content/output/img0002 - Copy/label/slice_99_1.png  \n",
            "  inflating: /content/output/img0002 - Copy/label/slice_99_2.png  \n",
            "  inflating: /content/output/img0002 - Copy/label/slice_99_3.png  \n",
            "  inflating: /content/output/img0002 - Copy/label/slice_99_4.png  \n",
            "  inflating: /content/output/img0002 - Copy/label/slice_99_5.png  \n",
            "  inflating: /content/output/img0002 - Copy/label/slice_99_6.png  \n",
            "  inflating: /content/output/img0002 - Copy/label/slice_99_7.png  \n",
            "  inflating: /content/output/img0002 - Copy/label/slice_99_8.png  \n"
          ]
        }
      ]
    },
    {
      "cell_type": "code",
      "execution_count": null,
      "metadata": {
        "id": "YXpHCHso5B3b"
      },
      "outputs": [],
      "source": [
        "from IPython.display import display, HTML\n",
        "display(HTML(\n",
        "\"\"\"\n",
        "<a target=\"_blank\" href=\"https://colab.research.google.com/github/MartinNovotny25/VUT-FIT-KNN/blob/main/sam_baseline.ipynb\">\n",
        "  <img src=\"https://colab.research.google.com/assets/colab-badge.svg\" alt=\"Open In Colab\"/>\n",
        "</a>\n",
        "\"\"\"\n",
        "))"
      ]
    },
    {
      "cell_type": "code",
      "source": [
        "using_colab = True"
      ],
      "metadata": {
        "id": "jy2kAAA05Jzm"
      },
      "execution_count": 2,
      "outputs": []
    },
    {
      "cell_type": "code",
      "source": [
        "if using_colab:\n",
        "    import torch\n",
        "    import torchvision\n",
        "    print(\"PyTorch version:\", torch.__version__)\n",
        "    print(\"Torchvision version:\", torchvision.__version__)\n",
        "    print(\"CUDA is available:\", torch.cuda.is_available())\n",
        "    import sys\n",
        "    !{sys.executable} -m pip install opencv-python matplotlib\n",
        "    !{sys.executable} -m pip install 'git+https://github.com/facebookresearch/segment-anything.git'\n",
        "\n",
        "   # !mkdir images\n",
        "   # !wget -P images https://raw.githubusercontent.com/facebookresearch/segment-anything/main/notebooks/images/truck.jpg\n",
        "   # !wget -P images https://raw.githubusercontent.com/facebookresearch/segment-anything/main/notebooks/images/groceries.jpg\n",
        "\n",
        "    !wget https://dl.fbaipublicfiles.com/segment_anything/sam_vit_h_4b8939.pth"
      ],
      "metadata": {
        "colab": {
          "base_uri": "https://localhost:8080/"
        },
        "id": "fMnAvUSg5HKh",
        "outputId": "c26330d8-a97c-457a-8714-56a51eeae86d"
      },
      "execution_count": 3,
      "outputs": [
        {
          "output_type": "stream",
          "name": "stdout",
          "text": [
            "PyTorch version: 2.2.1+cu121\n",
            "Torchvision version: 0.17.1+cu121\n",
            "CUDA is available: True\n",
            "Requirement already satisfied: opencv-python in /usr/local/lib/python3.10/dist-packages (4.8.0.76)\n",
            "Requirement already satisfied: matplotlib in /usr/local/lib/python3.10/dist-packages (3.7.1)\n",
            "Requirement already satisfied: numpy>=1.21.2 in /usr/local/lib/python3.10/dist-packages (from opencv-python) (1.25.2)\n",
            "Requirement already satisfied: contourpy>=1.0.1 in /usr/local/lib/python3.10/dist-packages (from matplotlib) (1.2.1)\n",
            "Requirement already satisfied: cycler>=0.10 in /usr/local/lib/python3.10/dist-packages (from matplotlib) (0.12.1)\n",
            "Requirement already satisfied: fonttools>=4.22.0 in /usr/local/lib/python3.10/dist-packages (from matplotlib) (4.50.0)\n",
            "Requirement already satisfied: kiwisolver>=1.0.1 in /usr/local/lib/python3.10/dist-packages (from matplotlib) (1.4.5)\n",
            "Requirement already satisfied: packaging>=20.0 in /usr/local/lib/python3.10/dist-packages (from matplotlib) (24.0)\n",
            "Requirement already satisfied: pillow>=6.2.0 in /usr/local/lib/python3.10/dist-packages (from matplotlib) (9.4.0)\n",
            "Requirement already satisfied: pyparsing>=2.3.1 in /usr/local/lib/python3.10/dist-packages (from matplotlib) (3.1.2)\n",
            "Requirement already satisfied: python-dateutil>=2.7 in /usr/local/lib/python3.10/dist-packages (from matplotlib) (2.8.2)\n",
            "Requirement already satisfied: six>=1.5 in /usr/local/lib/python3.10/dist-packages (from python-dateutil>=2.7->matplotlib) (1.16.0)\n",
            "Collecting git+https://github.com/facebookresearch/segment-anything.git\n",
            "  Cloning https://github.com/facebookresearch/segment-anything.git to /tmp/pip-req-build-gjf4yj72\n",
            "  Running command git clone --filter=blob:none --quiet https://github.com/facebookresearch/segment-anything.git /tmp/pip-req-build-gjf4yj72\n",
            "  Resolved https://github.com/facebookresearch/segment-anything.git to commit 6fdee8f2727f4506cfbbe553e23b895e27956588\n",
            "  Preparing metadata (setup.py) ... \u001b[?25l\u001b[?25hdone\n",
            "Building wheels for collected packages: segment-anything\n",
            "  Building wheel for segment-anything (setup.py) ... \u001b[?25l\u001b[?25hdone\n",
            "  Created wheel for segment-anything: filename=segment_anything-1.0-py3-none-any.whl size=36590 sha256=42f1ade3db31c5a593f8831dc88d1c43accb27a445b12e077ec4398b2dceb8b4\n",
            "  Stored in directory: /tmp/pip-ephem-wheel-cache-c_x1_wmy/wheels/10/cf/59/9ccb2f0a1bcc81d4fbd0e501680b5d088d690c6cfbc02dc99d\n",
            "Successfully built segment-anything\n",
            "Installing collected packages: segment-anything\n",
            "Successfully installed segment-anything-1.0\n",
            "--2024-04-10 18:10:46--  https://dl.fbaipublicfiles.com/segment_anything/sam_vit_h_4b8939.pth\n",
            "Resolving dl.fbaipublicfiles.com (dl.fbaipublicfiles.com)... 3.162.163.51, 3.162.163.19, 3.162.163.34, ...\n",
            "Connecting to dl.fbaipublicfiles.com (dl.fbaipublicfiles.com)|3.162.163.51|:443... connected.\n",
            "HTTP request sent, awaiting response... 200 OK\n",
            "Length: 2564550879 (2.4G) [binary/octet-stream]\n",
            "Saving to: ‘sam_vit_h_4b8939.pth’\n",
            "\n",
            "sam_vit_h_4b8939.pt 100%[===================>]   2.39G   231MB/s    in 17s     \n",
            "\n",
            "2024-04-10 18:11:04 (140 MB/s) - ‘sam_vit_h_4b8939.pth’ saved [2564550879/2564550879]\n",
            "\n"
          ]
        }
      ]
    },
    {
      "cell_type": "code",
      "source": [
        "import sys\n",
        "sys.path.append(\"..\")\n",
        "from segment_anything import sam_model_registry, SamPredictor\n",
        "\n",
        "sam_checkpoint = \"sam_vit_h_4b8939.pth\"\n",
        "model_type = \"vit_h\"\n",
        "\n",
        "device = \"cuda\"\n",
        "\n",
        "sam = sam_model_registry[model_type](checkpoint=sam_checkpoint)\n",
        "sam.to(device=device)\n",
        "\n",
        "predictor = SamPredictor(sam)"
      ],
      "metadata": {
        "id": "NpD-tNnu7_0n"
      },
      "execution_count": 4,
      "outputs": []
    },
    {
      "cell_type": "code",
      "source": [
        "import numpy as np\n",
        "import torch\n",
        "import matplotlib.pyplot as plt\n",
        "import cv2"
      ],
      "metadata": {
        "id": "d_64ulxd5N_l"
      },
      "execution_count": 5,
      "outputs": []
    },
    {
      "cell_type": "markdown",
      "source": [
        "# Get Clicks"
      ],
      "metadata": {
        "id": "VGNXN8Zt5U97"
      }
    },
    {
      "cell_type": "code",
      "source": [
        "import sys\n",
        "from segment_anything import sam_model_registry, SamPredictor\n",
        "\n",
        "# SAM setup\n",
        "sam_checkpoint = \"sam_vit_h_4b8939.pth\"\n",
        "model_type = \"vit_h\"\n",
        "device = \"cuda\"\n",
        "sam = sam_model_registry[model_type](checkpoint=sam_checkpoint)\n",
        "sam.to(device=device)\n",
        "predictor = SamPredictor(sam)"
      ],
      "metadata": {
        "id": "FFDNLkl8CC_t"
      },
      "execution_count": 6,
      "outputs": []
    },
    {
      "cell_type": "code",
      "source": [
        "import numpy as np\n",
        "import matplotlib.pyplot as plt\n",
        "import cv2\n",
        "from scipy.ndimage import distance_transform_bf\n",
        "\n",
        "def get_random_click(ground_truth, prediction):\n",
        "    prediction = prediction.astype(bool)\n",
        "    ground_truth = ground_truth.astype(bool)\n",
        "\n",
        "    prediction = prediction.astype(int)\n",
        "    gt = ground_truth.astype(int)\n",
        "\n",
        "    prediction = np.array(prediction)\n",
        "    ground_truth = np.array(gt)\n",
        "\n",
        "    D_map = ground_truth - prediction\n",
        "\n",
        "\n",
        "    D_plus = D_map.copy()\n",
        "    D_minus = D_map.copy()\n",
        "    D_plus[D_plus < 0] = 0  # D_plus are false-negative pixels\n",
        "    D_minus[D_minus > 0] = 0  # D_minus are false-positive pixels\n",
        "    D_minus = np.abs(D_minus)\n",
        "\n",
        "    # sum non zero elements of D_minus and D_plus\n",
        "    sum_D_minus = np.sum(D_minus)\n",
        "    sum_D_plus = np.sum(D_plus)\n",
        "\n",
        "    click_type = 0\n",
        "    if (sum_D_minus > sum_D_plus):\n",
        "        click_type = 0\n",
        "        selected_map = D_minus\n",
        "    else:\n",
        "        click_type = 1\n",
        "        selected_map = D_plus\n",
        "\n",
        "    # get distances of each pixel to the nearest border\n",
        "    sel_map_transformed = distance_transform_bf(selected_map)\n",
        "    # make the distances even more significant\n",
        "    sel_map_exp = np.expm1(sel_map_transformed)\n",
        "    # change the distances to probabilities of a given pixel being selected\n",
        "    if np.sum(sel_map_exp) != 0:\n",
        "        P_map = sel_map_exp / np.sum(sel_map_exp)\n",
        "\n",
        "        # select a random pixel based on the probabilities\n",
        "        flattened_probabilities = P_map.flatten()\n",
        "\n",
        "        random_pixel_index = np.random.choice(np.arange(len(flattened_probabilities)), p=flattened_probabilities)\n",
        "        random_pixel_2d_index = np.unravel_index(random_pixel_index, P_map.shape)\n",
        "        return random_pixel_2d_index, click_type\n",
        "    else:\n",
        "        pred_white = []\n",
        "        # iterate over every pixel, if it is white, add it to list\n",
        "        for i in range(1,prediction.shape[0]):\n",
        "            for j in range(1,prediction.shape[1]):\n",
        "                if prediction[i, j] == 1:\n",
        "                    pred_white.append((i, j))\n",
        "\n",
        "        # select middle pixel\n",
        "        random_pixel_2d_index = pred_white[int(len(pred_white)/2)]\n",
        "        return random_pixel_2d_index, click_type"
      ],
      "metadata": {
        "id": "6WAj7tf05Zdz"
      },
      "execution_count": 7,
      "outputs": []
    },
    {
      "cell_type": "code",
      "source": [
        "def calculate_iou(ground_truth, prediction):\n",
        "    intersection = np.logical_and(ground_truth, prediction)\n",
        "    union = np.logical_or(ground_truth, prediction)\n",
        "    iou_score = np.sum(intersection) / np.sum(union)\n",
        "    return iou_score"
      ],
      "metadata": {
        "id": "uugreO6Y3prs"
      },
      "execution_count": 8,
      "outputs": []
    },
    {
      "cell_type": "markdown",
      "source": [
        "# SAM predict"
      ],
      "metadata": {
        "id": "cG-EFK9M5iML"
      }
    },
    {
      "cell_type": "markdown",
      "source": [],
      "metadata": {
        "id": "4meEECTLYFp5"
      }
    },
    {
      "cell_type": "code",
      "source": [
        "import cv2\n",
        "import os\n",
        "import re\n",
        "import string\n",
        "#import get_random_click as gc\n",
        "import numpy\n",
        "\n",
        "import sys\n",
        "from segment_anything import sam_model_registry, SamPredictor\n",
        "\n",
        "import numpy as np\n",
        "import matplotlib.pyplot as plt\n",
        "import cv2\n",
        "from scipy.ndimage import distance_transform_bf\n",
        "\n",
        "from google.colab.patches import cv2_imshow\n",
        "\n",
        "def sam_predict(input_image, ground_truth, prediction):\n",
        "\n",
        "    # number of clicks\n",
        "    num_of_clicks = 5\n",
        "\n",
        "    # click lists\n",
        "    click_list = []\n",
        "    type_list = []\n",
        "    all_masks = []\n",
        "    all_scores = []\n",
        "\n",
        "    click_1 = []\n",
        "    click_2 = []\n",
        "    click_5 = []\n",
        "    click_10 = []\n",
        "    click_15 = []\n",
        "\n",
        "    masks = []\n",
        "    scores = []\n",
        "\n",
        "    # Convert grayscale images so SAM accepts them\n",
        "    conv_input_image = np.expand_dims(input_image, axis=2)\n",
        "    conv_input_image = np.repeat(conv_input_image, 3, axis=2)\n",
        "\n",
        "\n",
        "    # # TODO: Garbage? -> SafariDrip: Garbango\n",
        "    # # conv_prediction = np.expand_dims(prediction, axis=2)\n",
        "    # # conv_prediction = np.repeat(conv_prediction, 3, axis=2)\n",
        "    # # conv_ground_truth = np.expand_dims(ground_truth, axis=2)\n",
        "    # # conv_ground_truth = np.repeat(conv_ground_truth, 3, axis=2)\n",
        "\n",
        "    for i in range(num_of_clicks + 1):\n",
        "\n",
        "        # Generate clicks and append them to the list\n",
        "        random_pixel_2d_index, click_type = get_random_click(ground_truth, prediction)\n",
        "        click_list.append([random_pixel_2d_index[1], random_pixel_2d_index[0]])\n",
        "        type_list.append(click_type)\n",
        "\n",
        "        click_list_np = np.array(click_list)\n",
        "        type_list_np = np.array(type_list)\n",
        "\n",
        "        # Set predictor to our image\n",
        "        predictor.set_image(conv_input_image)\n",
        "\n",
        "        # Generate masks, scores and logits\n",
        "        # for multiple clicks, only best mask input is selected -- OPTIONAL\n",
        "        if len(type_list) == 1:\n",
        "            masks, scores, logits = predictor.predict(\n",
        "                point_coords=click_list_np,\n",
        "                point_labels=type_list_np,\n",
        "            )\n",
        "        else:\n",
        "            mask_input = logits[np.argmax(scores), :, :]\n",
        "            masks, scores, logits = predictor.predict(\n",
        "                point_coords=click_list_np,\n",
        "                point_labels=type_list_np,\n",
        "                mask_input=mask_input[None, :, :],\n",
        "                multimask_output=True\n",
        "            )\n",
        "\n",
        "        # Assign new mask\n",
        "        if i == 0:\n",
        "          mask_image1 = (masks[0] * 255).astype(np.uint8)  # Convert to uint8 format\n",
        "          cv2.imwrite('mask_for_pred_assignment1.png', mask_image1)  # Save the mask\n",
        "          prediction1 = cv2.imread('mask_for_pred_assignment1.png',\n",
        "                                cv2.IMREAD_GRAYSCALE)  # Load the mask in binary format\n",
        "          predictions = [prediction1]\n",
        "        else:\n",
        "          mask_image1 = (masks[0] * 255).astype(np.uint8)  # Convert to uint8 format\n",
        "          mask_image2 = (masks[1] * 255).astype(np.uint8)\n",
        "          mask_image3 = (masks[2] * 255).astype(np.uint8)\n",
        "\n",
        "          cv2.imwrite('mask_for_pred_assignment1.png', mask_image1)  # Save the mask\n",
        "          prediction1 = cv2.imread('mask_for_pred_assignment1.png',\n",
        "                                cv2.IMREAD_GRAYSCALE)  # Load the mask in binary format\n",
        "          cv2.imwrite('mask_for_pred_assignment2.png', mask_image2)  # Save the mask\n",
        "          prediction2 = cv2.imread('mask_for_pred_assignment2.png',\n",
        "                                cv2.IMREAD_GRAYSCALE)  # Load the mask in binary format\n",
        "          cv2.imwrite('mask_for_pred_assignment3.png', mask_image3)  # Save the mask\n",
        "          prediction3 = cv2.imread('mask_for_pred_assignment3.png',\n",
        "                                cv2.IMREAD_GRAYSCALE)  # Load the mask in binary format\n",
        "          predictions = [prediction1, prediction2, prediction3]\n",
        "\n",
        "        # Calculate IoU for first returned mask\n",
        "        our_scores = []\n",
        "        for k in range(len(predictions)):\n",
        "          our_scores.append(calculate_iou(ground_truth, predictions[k]))\n",
        "\n",
        "        maximum = max(our_scores)\n",
        "        index = 0\n",
        "        for k,j in enumerate(our_scores):\n",
        "          if j == max:\n",
        "            index = k\n",
        "\n",
        "        prediction = predictions[index]\n",
        "        score = our_scores[index]\n",
        "        if i == 1:\n",
        "            click_1.append(score)\n",
        "        elif i == 2:\n",
        "            click_2.append(score)\n",
        "        elif i == 5:\n",
        "            click_5.append(score)\n",
        "        elif i == 10:\n",
        "            click_10.append(score)\n",
        "        elif i == 15:\n",
        "            click_15.append(score)\n",
        "\n",
        "    # Clear the lists for new images\n",
        "    click_list.clear()\n",
        "    type_list.clear()\n",
        "\n",
        "    return [click_1, click_2, click_5, click_10, click_15]"
      ],
      "metadata": {
        "id": "O50JyAIP5mAE"
      },
      "execution_count": 22,
      "outputs": []
    },
    {
      "cell_type": "markdown",
      "source": [
        "# Loop over images"
      ],
      "metadata": {
        "id": "uUteQm647EMh"
      }
    },
    {
      "cell_type": "code",
      "source": [
        "import cv2\n",
        "import os\n",
        "import re\n",
        "import string\n",
        "#import get_random_click as gc\n",
        "#import sam_predict as sp\n",
        "import numpy as np\n",
        "\n",
        "import sys\n",
        "from segment_anything import sam_model_registry, SamPredictor\n",
        "\n",
        "\n",
        "# Get root directory with images\n",
        "root_image_directory = os.path.abspath('output')\n",
        "slice_number_regex = r'\\d+'\n",
        "\n",
        "# Lists for mask scores\n",
        "dataset_click_1 = []\n",
        "dataset_click_2 = []\n",
        "dataset_click_5 = []\n",
        "dataset_click_10 = []\n",
        "dataset_click_15 = []\n",
        "\n",
        "# Open diretory with individual image set directories - imgXXXX\n",
        "for image_directory in os.listdir(root_image_directory):\n",
        "    # Get full path to the directory - path/to/imgXXXX\n",
        "    image_directory_filepath = os.path.join(root_image_directory, image_directory)\n",
        "    # Get path to input_image directory - imgXXXX/img\n",
        "    for dir in os.listdir(image_directory_filepath):\n",
        "      if dir == 'img':\n",
        "        input_image_directory = os.path.join(image_directory_filepath, dir)\n",
        "      elif dir == 'label':\n",
        "        label_image_directory = os.path.join(image_directory_filepath, dir)\n",
        "\n",
        "\n",
        "    # Open directory with individual input images - imgXXXX/img/slice_XX\n",
        "    for input_image in os.listdir(input_image_directory):\n",
        "        # filepath to individual input images - imgXXXX/img/slice_XX.png\n",
        "        input_image_filepath = os.path.join(input_image_directory, input_image)\n",
        "\n",
        "        # Read the input image\n",
        "        image = cv2.imread(input_image_filepath, cv2.IMREAD_GRAYSCALE)\n",
        "\n",
        "        # Get slice number\n",
        "        find_result = re.findall(slice_number_regex, os.path.basename(input_image_filepath))\n",
        "        if (find_result == []):\n",
        "          break\n",
        "        else:\n",
        "          print(find_result)\n",
        "          slice_number = find_result[0]\n",
        "\n",
        "        # Get input masks for current images\n",
        "        for input_mask in os.listdir( label_image_directory):\n",
        "            input_label_filepath = os.path.join(label_image_directory, input_mask)\n",
        "\n",
        "            # Match slice number with correct labels for given input image\n",
        "            if(re.search(slice_number, input_label_filepath)):\n",
        "                ground_truth = cv2.imread(input_label_filepath, cv2.IMREAD_GRAYSCALE)\n",
        "                initial_prediction = cv2.imread(input_label_filepath, cv2.IMREAD_GRAYSCALE)\n",
        "\n",
        "                from google.colab.patches import cv2_imshow\n",
        "                prediction_result = sam_predict(image, ground_truth, initial_prediction)\n",
        "                #sam_predict(image, ground_truth, initial_prediction, predictor)\n",
        "                dataset_click_1.append(prediction_result[0])\n",
        "                dataset_click_2.append(prediction_result[1])\n",
        "                dataset_click_5.append(prediction_result[2])\n",
        "                dataset_click_10.append(prediction_result[3])\n",
        "                dataset_click_15.append(prediction_result[4])\n",
        "\n",
        "            else:\n",
        "                continue\n",
        "\n",
        "# Plot graph\n",
        "plt.figure(figsize = (10,10))\n",
        "values =  [np.average(dataset_click_1), np.average(dataset_click_2),\n",
        "           np.average(dataset_click_5), np.average(dataset_click_10),\n",
        "           np.average(dataset_click_15)]\n",
        "\n",
        "labels = ['1', '2', '5', '10', '15']\n",
        "colors = ['green', 'red', 'cyan', 'magenta', 'yellow']\n",
        "plt.ylim(0, 1)\n",
        "for i, (label, value) in enumerate(zip(labels, values)):\n",
        "    plt.bar(i, value, align='center', color=colors[i], label=label, width=0.5)\n",
        "    plt.text(i, value - 0.04, f'{value:.2f}', ha='center')\n",
        "\n",
        "plt.xticks(range(len(labels)), labels)\n",
        "plt.xlabel('Number of clicks')\n",
        "plt.ylabel('Average IoU')\n",
        "plt.title('Average IoUs per number of clicks')\n",
        "\n",
        "# Display the plot\n",
        "plt.savefig('average_iou.png')"
      ],
      "metadata": {
        "colab": {
          "base_uri": "https://localhost:8080/",
          "height": 1000
        },
        "id": "y5Hw9-ed7GXc",
        "outputId": "e062af1b-ce98-4945-fff6-ddbc18719f6b"
      },
      "execution_count": 23,
      "outputs": [
        {
          "output_type": "stream",
          "name": "stdout",
          "text": [
            "/content/output/img0001/img/slice_100.png\n",
            "['100']\n"
          ]
        },
        {
          "output_type": "display_data",
          "data": {
            "text/plain": [
              "<PIL.Image.Image image mode=L size=512x512>"
            ],
            "image/png": "[encoded data removed]"
          },
          "metadata": {}
        },
        {
          "output_type": "display_data",
          "data": {
            "text/plain": [
              "<PIL.Image.Image image mode=L size=512x512>"
            ],
            "image/png": "[encoded data removed]"
          },
          "metadata": {}
        },
        {
          "output_type": "display_data",
          "data": {
            "text/plain": [
              "<PIL.Image.Image image mode=L size=512x512>"
            ],
            "image/png": "[encoded data removed]"
          },
          "metadata": {}
        },
        {
          "output_type": "display_data",
          "data": {
            "text/plain": [
              "<PIL.Image.Image image mode=L size=512x512>"
            ],
            "image/png": "[encoded data removed]"
          },
          "metadata": {}
        },
        {
          "output_type": "display_data",
          "data": {
            "text/plain": [
              "<PIL.Image.Image image mode=L size=512x512>"
            ],
            "image/png": "[encoded data removed]"
          },
          "metadata": {}
        },
        {
          "output_type": "display_data",
          "data": {
            "text/plain": [
              "<PIL.Image.Image image mode=L size=512x512>"
            ],
            "image/png": "[encoded data removed]"
          },
          "metadata": {}
        },
        {
          "output_type": "display_data",
          "data": {
            "text/plain": [
              "<PIL.Image.Image image mode=L size=512x512>"
            ],
            "image/png": "[encoded data removed]"
          },
          "metadata": {}
        },
        {
          "output_type": "display_data",
          "data": {
            "text/plain": [
              "<PIL.Image.Image image mode=L size=512x512>"
            ],
            "image/png": "[encoded data removed]"
          },
          "metadata": {}
        },
        {
          "output_type": "stream",
          "name": "stdout",
          "text": [
            "/content/output/img0001/img/.ipynb_checkpoints\n",
            "/content/output/img0002/img/slice_100.png\n",
            "['100']\n"
          ]
        },
        {
          "output_type": "display_data",
          "data": {
            "text/plain": [
              "<PIL.Image.Image image mode=L size=512x512>"
            ],
            "image/png": "[encoded data removed]"
          },
          "metadata": {}
        },
        {
          "output_type": "display_data",
          "data": {
            "text/plain": [
              "<PIL.Image.Image image mode=L size=512x512>"
            ],
            "image/png": "[encoded data removed]"
          },
          "metadata": {}
        },
        {
          "output_type": "display_data",
          "data": {
            "text/plain": [
              "<PIL.Image.Image image mode=L size=512x512>"
            ],
            "image/png": "[encoded data removed]"
          },
          "metadata": {}
        },
        {
          "output_type": "display_data",
          "data": {
            "text/plain": [
              "<PIL.Image.Image image mode=L size=512x512>"
            ],
            "image/png": "[encoded data removed]"
          },
          "metadata": {}
        },
        {
          "output_type": "display_data",
          "data": {
            "text/plain": [
              "<PIL.Image.Image image mode=L size=512x512>"
            ],
            "image/png": "[encoded data removed]"
          },
          "metadata": {}
        },
        {
          "output_type": "display_data",
          "data": {
            "text/plain": [
              "<PIL.Image.Image image mode=L size=512x512>"
            ],
            "image/png": "[encoded data removed]"
          },
          "metadata": {}
        },
        {
          "output_type": "display_data",
          "data": {
            "text/plain": [
              "<PIL.Image.Image image mode=L size=512x512>"
            ],
            "image/png": "[encoded data removed]"
          },
          "metadata": {}
        },
        {
          "output_type": "display_data",
          "data": {
            "text/plain": [
              "<PIL.Image.Image image mode=L size=512x512>"
            ],
            "image/png": "[encoded data removed]"
          },
          "metadata": {}
        },
        {
          "output_type": "display_data",
          "data": {
            "text/plain": [
              "<PIL.Image.Image image mode=L size=512x512>"
            ],
            "image/png": "[encoded data removed]"
          },
          "metadata": {}
        },
        {
          "output_type": "display_data",
          "data": {
            "text/plain": [
              "<PIL.Image.Image image mode=L size=512x512>"
            ],
            "image/png": "[encoded data removed]"
          },
          "metadata": {}
        },
        {
          "output_type": "stream",
          "name": "stdout",
          "text": [
            "/content/output/img0002/img/slice_100.png\n",
            "['100']\n"
          ]
        },
        {
          "output_type": "display_data",
          "data": {
            "text/plain": [
              "<PIL.Image.Image image mode=L size=512x512>"
            ],
            "image/png": "[encoded data removed]"
          },
          "metadata": {}
        },
        {
          "output_type": "display_data",
          "data": {
            "text/plain": [
              "<PIL.Image.Image image mode=L size=512x512>"
            ],
            "image/png": "[encoded data removed]"
          },
          "metadata": {}
        },
        {
          "output_type": "display_data",
          "data": {
            "text/plain": [
              "<PIL.Image.Image image mode=L size=512x512>"
            ],
            "image/png": "[encoded data removed]"
          },
          "metadata": {}
        },
        {
          "output_type": "display_data",
          "data": {
            "text/plain": [
              "<PIL.Image.Image image mode=L size=512x512>"
            ],
            "image/png": "[encoded data removed]"
          },
          "metadata": {}
        },
        {
          "output_type": "display_data",
          "data": {
            "text/plain": [
              "<PIL.Image.Image image mode=L size=512x512>"
            ],
            "image/png": "[encoded data removed]"
          },
          "metadata": {}
        },
        {
          "output_type": "display_data",
          "data": {
            "text/plain": [
              "<PIL.Image.Image image mode=L size=512x512>"
            ],
            "image/png": "[encoded data removed]"
          },
          "metadata": {}
        },
        {
          "output_type": "display_data",
          "data": {
            "text/plain": [
              "<PIL.Image.Image image mode=L size=512x512>"
            ],
            "image/png": "[encoded data removed]"
          },
          "metadata": {}
        },
        {
          "output_type": "display_data",
          "data": {
            "text/plain": [
              "<PIL.Image.Image image mode=L size=512x512>"
            ],
            "image/png": "[encoded data removed]"
          },
          "metadata": {}
        },
        {
          "output_type": "display_data",
          "data": {
            "text/plain": [
              "<PIL.Image.Image image mode=L size=512x512>"
            ],
            "image/png": "[encoded data removed]"
          },
          "metadata": {}
        },
        {
          "output_type": "display_data",
          "data": {
            "text/plain": [
              "<PIL.Image.Image image mode=L size=512x512>"
            ],
            "image/png": "[encoded data removed]"
          },
          "metadata": {}
        },
        {
          "output_type": "display_data",
          "data": {
            "text/plain": [
              "<Figure size 1000x1000 with 1 Axes>"
            ],
            "image/png": "[encoded data removed]"
          },
          "metadata": {}
        }
      ]
    }
  ]
}